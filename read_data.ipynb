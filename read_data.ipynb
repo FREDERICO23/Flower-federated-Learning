{
 "cells": [
  {
   "cell_type": "code",
   "execution_count": null,
   "metadata": {},
   "outputs": [],
   "source": [
    "import openml"
   ]
  }
 ],
 "metadata": {
  "kernelspec": {
   "display_name": "Python 3.9.2 ('sklearnff-UZKgGLZy')",
   "language": "python",
   "name": "python3"
  },
  "language_info": {
   "name": "python",
   "version": "3.9.2"
  },
  "orig_nbformat": 4,
  "vscode": {
   "interpreter": {
    "hash": "c5b619fc8eb72b4b2f149a4ffa522fdd080ce243b241c2ecdf884403a755411f"
   }
  }
 },
 "nbformat": 4,
 "nbformat_minor": 2
}
